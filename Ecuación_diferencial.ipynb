{
  "nbformat": 4,
  "nbformat_minor": 0,
  "metadata": {
    "colab": {
      "name": "Ecuación diferencial.ipynb",
      "provenance": [],
      "collapsed_sections": []
    },
    "kernelspec": {
      "name": "python3",
      "display_name": "Python 3"
    }
  },
  "cells": [
    {
      "cell_type": "code",
      "metadata": {
        "id": "5bPAgQ53IOa3",
        "colab_type": "code",
        "colab": {}
      },
      "source": [
        "import numpy as np\n",
        "import matplotlib.pyplot as plt"
      ],
      "execution_count": 0,
      "outputs": []
    },
    {
      "cell_type": "markdown",
      "metadata": {
        "id": "sv0uW9jgwjqx",
        "colab_type": "text"
      },
      "source": [
        "La ecuación diferencial es: \\\\\n",
        "$\\Phi''+\\frac{\\xi}{2}\\Phi '+\\frac{1}{2}\\Phi = 0 \\\\\n",
        "\\Phi''=-\\frac{\\xi}{2}\\Phi'-\\frac{1}{2}\\Phi$ \\\\\n",
        "haciendo \\\\\n",
        "$\\Phi'=y $ \\\\\n",
        "entonces \\\\\n",
        "$y'=-\\frac{\\xi}{2}y-\\frac{1}{2}\\Phi$ \\\\\n",
        "En forma de vectores: \\\\\n",
        "$ \\vec{q} = \\left[ \\begin{array}{c} \\Phi \\\\y \\end{array} \\right], \\vec{q}'= \\left[ \\begin{array}{c} \\Phi' \\\\y' \\end{array} \\right]= \\left[ \\begin{array}{c} y \\\\-\\frac{\\xi}{2}y-\\frac{1}{2}\\Phi \\end{array} \\right]$"
      ]
    },
    {
      "cell_type": "code",
      "metadata": {
        "colab_type": "code",
        "id": "bouxnBC7dkrd",
        "colab": {}
      },
      "source": [
        "'Función para calcular las derivadas'\n",
        "def Phi_Dot(t_n, q_n): \n",
        "  phi, y = q_n\n",
        "  phi_dot = y\n",
        "  y_dot = -0.5*t_n*y-0.5*phi \n",
        "  \n",
        "  return np.asarray([phi_dot, y_dot])"
      ],
      "execution_count": 0,
      "outputs": []
    },
    {
      "cell_type": "code",
      "metadata": {
        "id": "UOwYed32dksJ",
        "colab_type": "code",
        "colab": {}
      },
      "source": [
        "def paso_euler_pos(f, t_n, q_n, dt):\n",
        "    q_dot = f(t_n, q_n)\n",
        "    q_n_mas_1 = q_n + dt*q_dot\n",
        "    return q_n_mas_1 "
      ],
      "execution_count": 0,
      "outputs": []
    },
    {
      "cell_type": "code",
      "metadata": {
        "id": "pUhHFdc8Kb64",
        "colab_type": "code",
        "colab": {}
      },
      "source": [
        "def paso_euler_neg(f, t_n, q_n, dt):\n",
        "    q_dot = f(t_n, q_n)\n",
        "    q_n_mas_1 = q_n - dt*q_dot\n",
        "    return q_n_mas_1 "
      ],
      "execution_count": 0,
      "outputs": []
    },
    {
      "cell_type": "code",
      "metadata": {
        "colab_type": "code",
        "id": "J3arscjIdksT",
        "colab": {}
      },
      "source": [
        "'Integra la ecuación para el lado derecho'\n",
        "def integrador_simple(f, t, q_0, dt, paso_euler):\n",
        "    t_0, t_f = t \n",
        "    n = int((t_f-t_0)/dt)  \n",
        "    d = len(q_0)\n",
        "    q_tray= np.zeros((n+1, d))\n",
        "    t = np.linspace(t_0, t_f, n+1)\n",
        "    q_tray[0,:] = q_0\n",
        "    for i in range(n):\n",
        "        q_tray[i+1,:] = paso_euler(f, t[i], q_tray[i,:], dt)\n",
        "    return t, q_tray"
      ],
      "execution_count": 0,
      "outputs": []
    },
    {
      "cell_type": "code",
      "metadata": {
        "id": "z2iCmZuxKig4",
        "colab_type": "code",
        "colab": {}
      },
      "source": [
        "'Integra la ecuación para el lado izquierdo'\n",
        "def integrador_simple2(f, t, q_0, dt, paso_euler):\n",
        "    t_0, t_f = t \n",
        "    n = int((-t_f-t_0)/dt)  #cambio de signo para no tener dimensión negativa\n",
        "    d = len(q_0)\n",
        "    q_tray= np.zeros((n+1, d))\n",
        "    t = np.linspace(t_0, t_f, n+1)\n",
        "    q_tray[0,:] = q_0\n",
        "    for i in range(n):\n",
        "        q_tray[i+1,:] = paso_euler(f, t[i], q_tray[i,:], dt)\n",
        "    return t, q_tray"
      ],
      "execution_count": 0,
      "outputs": []
    },
    {
      "cell_type": "code",
      "metadata": {
        "id": "vXCq-iJZOC7P",
        "colab_type": "code",
        "colab": {}
      },
      "source": [
        "t_pos, yw_pos= integrador_simple(Phi_Dot, [0,10], [1., 0.], 0.01, paso_euler_pos)\n",
        "t_neg, yw_neg= integrador_simple2(Phi_Dot, [0, -10], [1., 0.], 0.01, paso_euler_neg)"
      ],
      "execution_count": 0,
      "outputs": []
    },
    {
      "cell_type": "code",
      "metadata": {
        "id": "cJwKIgmxPBg2",
        "colab_type": "code",
        "outputId": "3cadbddf-b5b7-475e-9670-d123744af1c9",
        "colab": {
          "base_uri": "https://localhost:8080/",
          "height": 282
        }
      },
      "source": [
        "plt.plot(t_pos, yw_pos[:,0])\n",
        "plt.plot(t_neg, yw_neg[:,0])\n",
        "plt.ylim([0,1.3])"
      ],
      "execution_count": 8,
      "outputs": [
        {
          "output_type": "execute_result",
          "data": {
            "text/plain": [
              "(0, 1.3)"
            ]
          },
          "metadata": {
            "tags": []
          },
          "execution_count": 8
        },
        {
          "output_type": "display_data",
          "data": {
            "image/png": "[encoded data removed]",
            "text/plain": [
              "<Figure size 432x288 with 1 Axes>"
            ]
          },
          "metadata": {
            "tags": []
          }
        }
      ]
    }
  ]
}